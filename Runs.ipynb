{
  "cells": [
    {
      "cell_type": "code",
      "source": [
        "#%pip install pyyaml"
      ],
      "outputs": [],
      "execution_count": null,
      "metadata": {
        "jupyter": {
          "source_hidden": false,
          "outputs_hidden": false
        },
        "nteract": {
          "transient": {
            "deleting": false
          }
        }
      }
    },
    {
      "cell_type": "code",
      "source": [
        "import json\n",
        "import pandas as pd\n",
        "import yaml"
      ],
      "outputs": [],
      "execution_count": 8,
      "metadata": {
        "gather": {
          "logged": 1691646808963
        }
      }
    },
    {
      "cell_type": "code",
      "source": [
        "with open('runs_json.json') as json_data:\n",
        "    data_json = json.load(json_data)\n",
        "\n",
        "df=pd.DataFrame(data_json)"
      ],
      "outputs": [],
      "execution_count": 2,
      "metadata": {
        "jupyter": {
          "source_hidden": false,
          "outputs_hidden": false
        },
        "nteract": {
          "transient": {
            "deleting": false
          }
        },
        "gather": {
          "logged": 1691646631692
        }
      }
    },
    {
      "cell_type": "code",
      "source": [
        "dict_df = pd.DataFrame(df['workflow_runs'].tolist())\n",
        "dict_df = dict_df[[\"id\",\"name\",\"conclusion\",\"run_attempt\"]]"
      ],
      "outputs": [],
      "execution_count": 4,
      "metadata": {
        "jupyter": {
          "source_hidden": false,
          "outputs_hidden": false
        },
        "nteract": {
          "transient": {
            "deleting": false
          }
        },
        "gather": {
          "logged": 1691646636834
        }
      }
    },
    {
      "cell_type": "code",
      "source": [
        "dict_df"
      ],
      "outputs": [
        {
          "output_type": "execute_result",
          "execution_count": 5,
          "data": {
            "text/plain": "            id name       conclusion  run_attempt\n0   5812857196  abc          failure            1\n1   5812826368  abc          failure            1\n2   5812804393  abc  startup_failure            1\n3   5812795608  abc  startup_failure            1\n4   5812735113  abc          failure            1\n5   5812696098  abc          failure            1\n6   5812649268  abc          failure            1\n7   5812602531  abc          failure            1\n8   5812563818  abc          failure            1\n9   5812531306  abc          failure            1\n10  5812478745  abc          failure            1\n11  5812425083  abc          failure            1\n12  5812255802  abc          success            1\n13  5812233176  abc          success            1\n14  5812211296  abc          failure            1\n15  5812169637  abc          failure            1\n16  5812146558  abc          failure            1\n17  5812110269  abc          success            1\n18  5812093633  abc          failure            1\n19  5812053515  abc          failure            1\n20  5812006024  abc          failure            1\n21  5811978320  abc          failure            1\n22  5811917561  abc          success            1\n23  5811394851  abc          success            1\n24  5811349623  abc          success            1\n25  5811291038  abc          success            1\n26  5811266340  abc          failure            1\n27  5811203643  abc          success            1\n28  5811175925  abc          success            1\n29  5811111478  abc          success            1",
            "text/html": "<div>\n<style scoped>\n    .dataframe tbody tr th:only-of-type {\n        vertical-align: middle;\n    }\n\n    .dataframe tbody tr th {\n        vertical-align: top;\n    }\n\n    .dataframe thead th {\n        text-align: right;\n    }\n</style>\n<table border=\"1\" class=\"dataframe\">\n  <thead>\n    <tr style=\"text-align: right;\">\n      <th></th>\n      <th>id</th>\n      <th>name</th>\n      <th>conclusion</th>\n      <th>run_attempt</th>\n    </tr>\n  </thead>\n  <tbody>\n    <tr>\n      <th>0</th>\n      <td>5812857196</td>\n      <td>abc</td>\n      <td>failure</td>\n      <td>1</td>\n    </tr>\n    <tr>\n      <th>1</th>\n      <td>5812826368</td>\n      <td>abc</td>\n      <td>failure</td>\n      <td>1</td>\n    </tr>\n    <tr>\n      <th>2</th>\n      <td>5812804393</td>\n      <td>abc</td>\n      <td>startup_failure</td>\n      <td>1</td>\n    </tr>\n    <tr>\n      <th>3</th>\n      <td>5812795608</td>\n      <td>abc</td>\n      <td>startup_failure</td>\n      <td>1</td>\n    </tr>\n    <tr>\n      <th>4</th>\n      <td>5812735113</td>\n      <td>abc</td>\n      <td>failure</td>\n      <td>1</td>\n    </tr>\n    <tr>\n      <th>5</th>\n      <td>5812696098</td>\n      <td>abc</td>\n      <td>failure</td>\n      <td>1</td>\n    </tr>\n    <tr>\n      <th>6</th>\n      <td>5812649268</td>\n      <td>abc</td>\n      <td>failure</td>\n      <td>1</td>\n    </tr>\n    <tr>\n      <th>7</th>\n      <td>5812602531</td>\n      <td>abc</td>\n      <td>failure</td>\n      <td>1</td>\n    </tr>\n    <tr>\n      <th>8</th>\n      <td>5812563818</td>\n      <td>abc</td>\n      <td>failure</td>\n      <td>1</td>\n    </tr>\n    <tr>\n      <th>9</th>\n      <td>5812531306</td>\n      <td>abc</td>\n      <td>failure</td>\n      <td>1</td>\n    </tr>\n    <tr>\n      <th>10</th>\n      <td>5812478745</td>\n      <td>abc</td>\n      <td>failure</td>\n      <td>1</td>\n    </tr>\n    <tr>\n      <th>11</th>\n      <td>5812425083</td>\n      <td>abc</td>\n      <td>failure</td>\n      <td>1</td>\n    </tr>\n    <tr>\n      <th>12</th>\n      <td>5812255802</td>\n      <td>abc</td>\n      <td>success</td>\n      <td>1</td>\n    </tr>\n    <tr>\n      <th>13</th>\n      <td>5812233176</td>\n      <td>abc</td>\n      <td>success</td>\n      <td>1</td>\n    </tr>\n    <tr>\n      <th>14</th>\n      <td>5812211296</td>\n      <td>abc</td>\n      <td>failure</td>\n      <td>1</td>\n    </tr>\n    <tr>\n      <th>15</th>\n      <td>5812169637</td>\n      <td>abc</td>\n      <td>failure</td>\n      <td>1</td>\n    </tr>\n    <tr>\n      <th>16</th>\n      <td>5812146558</td>\n      <td>abc</td>\n      <td>failure</td>\n      <td>1</td>\n    </tr>\n    <tr>\n      <th>17</th>\n      <td>5812110269</td>\n      <td>abc</td>\n      <td>success</td>\n      <td>1</td>\n    </tr>\n    <tr>\n      <th>18</th>\n      <td>5812093633</td>\n      <td>abc</td>\n      <td>failure</td>\n      <td>1</td>\n    </tr>\n    <tr>\n      <th>19</th>\n      <td>5812053515</td>\n      <td>abc</td>\n      <td>failure</td>\n      <td>1</td>\n    </tr>\n    <tr>\n      <th>20</th>\n      <td>5812006024</td>\n      <td>abc</td>\n      <td>failure</td>\n      <td>1</td>\n    </tr>\n    <tr>\n      <th>21</th>\n      <td>5811978320</td>\n      <td>abc</td>\n      <td>failure</td>\n      <td>1</td>\n    </tr>\n    <tr>\n      <th>22</th>\n      <td>5811917561</td>\n      <td>abc</td>\n      <td>success</td>\n      <td>1</td>\n    </tr>\n    <tr>\n      <th>23</th>\n      <td>5811394851</td>\n      <td>abc</td>\n      <td>success</td>\n      <td>1</td>\n    </tr>\n    <tr>\n      <th>24</th>\n      <td>5811349623</td>\n      <td>abc</td>\n      <td>success</td>\n      <td>1</td>\n    </tr>\n    <tr>\n      <th>25</th>\n      <td>5811291038</td>\n      <td>abc</td>\n      <td>success</td>\n      <td>1</td>\n    </tr>\n    <tr>\n      <th>26</th>\n      <td>5811266340</td>\n      <td>abc</td>\n      <td>failure</td>\n      <td>1</td>\n    </tr>\n    <tr>\n      <th>27</th>\n      <td>5811203643</td>\n      <td>abc</td>\n      <td>success</td>\n      <td>1</td>\n    </tr>\n    <tr>\n      <th>28</th>\n      <td>5811175925</td>\n      <td>abc</td>\n      <td>success</td>\n      <td>1</td>\n    </tr>\n    <tr>\n      <th>29</th>\n      <td>5811111478</td>\n      <td>abc</td>\n      <td>success</td>\n      <td>1</td>\n    </tr>\n  </tbody>\n</table>\n</div>"
          },
          "metadata": {}
        }
      ],
      "execution_count": 5,
      "metadata": {
        "jupyter": {
          "source_hidden": false,
          "outputs_hidden": false
        },
        "nteract": {
          "transient": {
            "deleting": false
          }
        },
        "gather": {
          "logged": 1691646638153
        }
      }
    },
    {
      "cell_type": "code",
      "source": [
        "req_json=dict_df.to_dict(orient='records')\n",
        "yaml_string = yaml.dump(req_json)"
      ],
      "outputs": [],
      "execution_count": 6,
      "metadata": {
        "jupyter": {
          "source_hidden": false,
          "outputs_hidden": false
        },
        "nteract": {
          "transient": {
            "deleting": false
          }
        },
        "gather": {
          "logged": 1691646766783
        }
      }
    },
    {
      "cell_type": "code",
      "source": [
        "print(yaml_string)"
      ],
      "outputs": [
        {
          "output_type": "stream",
          "name": "stdout",
          "text": "- conclusion: failure\n  id: 5812857196\n  name: abc\n  run_attempt: 1\n- conclusion: failure\n  id: 5812826368\n  name: abc\n  run_attempt: 1\n- conclusion: startup_failure\n  id: 5812804393\n  name: abc\n  run_attempt: 1\n- conclusion: startup_failure\n  id: 5812795608\n  name: abc\n  run_attempt: 1\n- conclusion: failure\n  id: 5812735113\n  name: abc\n  run_attempt: 1\n- conclusion: failure\n  id: 5812696098\n  name: abc\n  run_attempt: 1\n- conclusion: failure\n  id: 5812649268\n  name: abc\n  run_attempt: 1\n- conclusion: failure\n  id: 5812602531\n  name: abc\n  run_attempt: 1\n- conclusion: failure\n  id: 5812563818\n  name: abc\n  run_attempt: 1\n- conclusion: failure\n  id: 5812531306\n  name: abc\n  run_attempt: 1\n- conclusion: failure\n  id: 5812478745\n  name: abc\n  run_attempt: 1\n- conclusion: failure\n  id: 5812425083\n  name: abc\n  run_attempt: 1\n- conclusion: success\n  id: 5812255802\n  name: abc\n  run_attempt: 1\n- conclusion: success\n  id: 5812233176\n  name: abc\n  run_attempt: 1\n- conclusion: failure\n  id: 5812211296\n  name: abc\n  run_attempt: 1\n- conclusion: failure\n  id: 5812169637\n  name: abc\n  run_attempt: 1\n- conclusion: failure\n  id: 5812146558\n  name: abc\n  run_attempt: 1\n- conclusion: success\n  id: 5812110269\n  name: abc\n  run_attempt: 1\n- conclusion: failure\n  id: 5812093633\n  name: abc\n  run_attempt: 1\n- conclusion: failure\n  id: 5812053515\n  name: abc\n  run_attempt: 1\n- conclusion: failure\n  id: 5812006024\n  name: abc\n  run_attempt: 1\n- conclusion: failure\n  id: 5811978320\n  name: abc\n  run_attempt: 1\n- conclusion: success\n  id: 5811917561\n  name: abc\n  run_attempt: 1\n- conclusion: success\n  id: 5811394851\n  name: abc\n  run_attempt: 1\n- conclusion: success\n  id: 5811349623\n  name: abc\n  run_attempt: 1\n- conclusion: success\n  id: 5811291038\n  name: abc\n  run_attempt: 1\n- conclusion: failure\n  id: 5811266340\n  name: abc\n  run_attempt: 1\n- conclusion: success\n  id: 5811203643\n  name: abc\n  run_attempt: 1\n- conclusion: success\n  id: 5811175925\n  name: abc\n  run_attempt: 1\n- conclusion: success\n  id: 5811111478\n  name: abc\n  run_attempt: 1\n\n"
        }
      ],
      "execution_count": 10,
      "metadata": {
        "jupyter": {
          "source_hidden": false,
          "outputs_hidden": false
        },
        "nteract": {
          "transient": {
            "deleting": false
          }
        },
        "gather": {
          "logged": 1691646823137
        }
      }
    },
    {
      "cell_type": "code",
      "source": [
        "with open('runs.yaml', 'w+') as f:\n",
        "     f.write(yaml_string)"
      ],
      "outputs": [],
      "execution_count": 12,
      "metadata": {
        "jupyter": {
          "source_hidden": false,
          "outputs_hidden": false
        },
        "nteract": {
          "transient": {
            "deleting": false
          }
        },
        "gather": {
          "logged": 1691646973218
        }
      }
    },
    {
      "cell_type": "code",
      "source": [
        "with open('runs.yaml') as runyaml:\n",
        "    runyaml =yaml.safe_load(runyaml)"
      ],
      "outputs": [],
      "execution_count": 14,
      "metadata": {
        "jupyter": {
          "source_hidden": false,
          "outputs_hidden": false
        },
        "nteract": {
          "transient": {
            "deleting": false
          }
        },
        "gather": {
          "logged": 1691647743710
        }
      }
    },
    {
      "cell_type": "code",
      "source": [
        "# Generate Markdown table\n",
        "markdown_table = \"| id | name | conclusion | run_attempt |\\n| -- | ---- | ---------- | ----------- |\\n\"\n",
        "for item in runyaml:\n",
        "    markdown_table += f\"| {item['id']} | {item['name']}  | {item['conclusion']} | {item['run_attempt']} | \\n\"\n",
        "\n",
        "# Write Markdown table to file\n",
        "with open(\"table.md\", \"w\") as md_file:\n",
        "    md_file.write(markdown_table)"
      ],
      "outputs": [],
      "execution_count": 17,
      "metadata": {
        "jupyter": {
          "source_hidden": false,
          "outputs_hidden": false
        },
        "nteract": {
          "transient": {
            "deleting": false
          }
        },
        "gather": {
          "logged": 1691648870704
        }
      }
    }
  ],
  "metadata": {
    "kernelspec": {
      "name": "python310-sdkv2",
      "language": "python",
      "display_name": "Python 3.10 - SDK v2"
    },
    "language_info": {
      "name": "python",
      "version": "3.10.11",
      "mimetype": "text/x-python",
      "codemirror_mode": {
        "name": "ipython",
        "version": 3
      },
      "pygments_lexer": "ipython3",
      "nbconvert_exporter": "python",
      "file_extension": ".py"
    },
    "microsoft": {
      "ms_spell_check": {
        "ms_spell_check_language": "en"
      },
      "host": {
        "AzureML": {
          "notebookHasBeenCompleted": true
        }
      }
    },
    "kernel_info": {
      "name": "python310-sdkv2"
    },
    "nteract": {
      "version": "nteract-front-end@1.0.0"
    }
  },
  "nbformat": 4,
  "nbformat_minor": 2
}